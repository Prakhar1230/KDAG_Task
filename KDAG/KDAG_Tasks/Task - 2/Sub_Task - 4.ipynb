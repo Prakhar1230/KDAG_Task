{
 "cells": [
  {
   "cell_type": "markdown",
   "id": "a0ec52fa",
   "metadata": {},
   "source": [
    "# Gaussian_Discriminant_Analysis Using Scikit_learn"
   ]
  },
  {
   "cell_type": "markdown",
   "id": "212801f7",
   "metadata": {},
   "source": [
    "#### Importing libraries and Data Visualisation"
   ]
  },
  {
   "cell_type": "markdown",
   "id": "973be743",
   "metadata": {},
   "source": [
    "In this subtask, Scikit Learn based Gaussian Discriminant Analysis model is used to train on 'ds2_train.csv' and then tested on 'ds2_test.csv'."
   ]
  },
  {
   "cell_type": "markdown",
   "id": "e9a21906",
   "metadata": {},
   "source": [
    "Numpy is used to create array and its functions are used such as exponential function, dot product, transpose of a matrix etc.\n",
    "\n",
    "Pandas is used to read data from the csv files and convert it into list of arrays.\n",
    "\n",
    "Matplotlib is used to draw various plots.\n",
    "\n",
    "Sklearn is the most common machine learning library with many inbuilt functions"
   ]
  },
  {
   "cell_type": "code",
   "execution_count": 28,
   "id": "30b4c9cf",
   "metadata": {},
   "outputs": [],
   "source": [
    "# Importing libraries\n",
    "\n",
    "import numpy as np\n",
    "import pandas as pd\n",
    "import matplotlib.pyplot as plt\n",
    "from sklearn.discriminant_analysis import LinearDiscriminantAnalysis\n",
    "from sklearn.preprocessing import PolynomialFeatures\n",
    "from sklearn.model_selection import GridSearchCV\n",
    "from sklearn.metrics import accuracy_score\n",
    "from sklearn.metrics import precision_score\n",
    "from sklearn.metrics import recall_score\n",
    "from sklearn.metrics import confusion_matrix\n",
    "from sklearn.metrics import f1_score"
   ]
  },
  {
   "cell_type": "markdown",
   "id": "ec028a7b",
   "metadata": {},
   "source": [
    "matplotlib inline is used to display plots directly within the notebook interface."
   ]
  },
  {
   "cell_type": "code",
   "execution_count": 29,
   "id": "0de4dced",
   "metadata": {},
   "outputs": [],
   "source": [
    "%matplotlib inline"
   ]
  },
  {
   "cell_type": "markdown",
   "id": "b4e05fc7",
   "metadata": {},
   "source": [
    "The data from the csv files are extracted by pandas.read_csv function where it reads the data from the csv file and converts it into the dataframe."
   ]
  },
  {
   "cell_type": "code",
   "execution_count": 30,
   "id": "53c9e455",
   "metadata": {},
   "outputs": [],
   "source": [
    "# Initialising the traning and test examples\n",
    "# df_train represents the traning DataFrame\n",
    "\n",
    "df_train = pd.read_csv('ds2_train.csv')\n",
    "df_test = pd.read_csv('ds2_test.csv')"
   ]
  },
  {
   "cell_type": "code",
   "execution_count": 31,
   "id": "e193cd74",
   "metadata": {},
   "outputs": [
    {
     "data": {
      "text/html": [
       "<div>\n",
       "<style scoped>\n",
       "    .dataframe tbody tr th:only-of-type {\n",
       "        vertical-align: middle;\n",
       "    }\n",
       "\n",
       "    .dataframe tbody tr th {\n",
       "        vertical-align: top;\n",
       "    }\n",
       "\n",
       "    .dataframe thead th {\n",
       "        text-align: right;\n",
       "    }\n",
       "</style>\n",
       "<table border=\"1\" class=\"dataframe\">\n",
       "  <thead>\n",
       "    <tr style=\"text-align: right;\">\n",
       "      <th></th>\n",
       "      <th>x_1</th>\n",
       "      <th>x_2</th>\n",
       "      <th>y</th>\n",
       "    </tr>\n",
       "  </thead>\n",
       "  <tbody>\n",
       "    <tr>\n",
       "      <th>0</th>\n",
       "      <td>3.759481</td>\n",
       "      <td>7.507940</td>\n",
       "      <td>0.0</td>\n",
       "    </tr>\n",
       "    <tr>\n",
       "      <th>1</th>\n",
       "      <td>3.422057</td>\n",
       "      <td>4.991203</td>\n",
       "      <td>0.0</td>\n",
       "    </tr>\n",
       "    <tr>\n",
       "      <th>2</th>\n",
       "      <td>2.778818</td>\n",
       "      <td>4.112071</td>\n",
       "      <td>0.0</td>\n",
       "    </tr>\n",
       "    <tr>\n",
       "      <th>3</th>\n",
       "      <td>4.018066</td>\n",
       "      <td>5.653732</td>\n",
       "      <td>0.0</td>\n",
       "    </tr>\n",
       "    <tr>\n",
       "      <th>4</th>\n",
       "      <td>1.806062</td>\n",
       "      <td>4.685966</td>\n",
       "      <td>0.0</td>\n",
       "    </tr>\n",
       "    <tr>\n",
       "      <th>5</th>\n",
       "      <td>2.882302</td>\n",
       "      <td>5.123573</td>\n",
       "      <td>0.0</td>\n",
       "    </tr>\n",
       "    <tr>\n",
       "      <th>6</th>\n",
       "      <td>3.189999</td>\n",
       "      <td>5.424746</td>\n",
       "      <td>0.0</td>\n",
       "    </tr>\n",
       "    <tr>\n",
       "      <th>7</th>\n",
       "      <td>2.104426</td>\n",
       "      <td>2.480323</td>\n",
       "      <td>0.0</td>\n",
       "    </tr>\n",
       "    <tr>\n",
       "      <th>8</th>\n",
       "      <td>1.771032</td>\n",
       "      <td>3.059402</td>\n",
       "      <td>0.0</td>\n",
       "    </tr>\n",
       "    <tr>\n",
       "      <th>9</th>\n",
       "      <td>3.397404</td>\n",
       "      <td>5.148616</td>\n",
       "      <td>0.0</td>\n",
       "    </tr>\n",
       "  </tbody>\n",
       "</table>\n",
       "</div>"
      ],
      "text/plain": [
       "        x_1       x_2    y\n",
       "0  3.759481  7.507940  0.0\n",
       "1  3.422057  4.991203  0.0\n",
       "2  2.778818  4.112071  0.0\n",
       "3  4.018066  5.653732  0.0\n",
       "4  1.806062  4.685966  0.0\n",
       "5  2.882302  5.123573  0.0\n",
       "6  3.189999  5.424746  0.0\n",
       "7  2.104426  2.480323  0.0\n",
       "8  1.771032  3.059402  0.0\n",
       "9  3.397404  5.148616  0.0"
      ]
     },
     "execution_count": 31,
     "metadata": {},
     "output_type": "execute_result"
    }
   ],
   "source": [
    "# Printing the datframe df_train to see the type of data\n",
    "# pandas.head(n) function is used to print the first n data entries of the respective dataframe. By default n=5\n",
    "\n",
    "df_train.head(10)"
   ]
  },
  {
   "cell_type": "code",
   "execution_count": 32,
   "id": "d3b10044",
   "metadata": {},
   "outputs": [
    {
     "name": "stdout",
     "output_type": "stream",
     "text": [
      "x_1    0\n",
      "x_2    0\n",
      "y      0\n",
      "dtype: int64\n",
      "x_1    0\n",
      "x_2    0\n",
      "y      0\n",
      "dtype: int64\n"
     ]
    }
   ],
   "source": [
    "# It's important to check for the null values in both the training and the test dataset\n",
    "\n",
    "print(df_train.isnull().sum())\n",
    "print(df_test.isnull().sum())"
   ]
  },
  {
   "cell_type": "code",
   "execution_count": 33,
   "id": "71bbb09a",
   "metadata": {},
   "outputs": [
    {
     "data": {
      "text/plain": [
       "0.0    400\n",
       "1.0    400\n",
       "Name: y, dtype: int64"
      ]
     },
     "execution_count": 33,
     "metadata": {},
     "output_type": "execute_result"
    }
   ],
   "source": [
    "# Printing the data entries of column y to see the types of labels\n",
    "# pandas.value_counts() function is used to print the number of distinct entries in a particular coulmn\n",
    "\n",
    "df_train['y'].value_counts()"
   ]
  },
  {
   "cell_type": "code",
   "execution_count": 34,
   "id": "a3d52970",
   "metadata": {},
   "outputs": [],
   "source": [
    "X_train = df_train[['x_1', 'x_2']].values\n",
    "y_train = df_train['y'].values\n",
    "\n",
    "X_test = df_test[['x_1', 'x_2']]\n",
    "y_test = df_test['y']"
   ]
  },
  {
   "cell_type": "markdown",
   "id": "a43e82e5",
   "metadata": {},
   "source": [
    "From the above few test runs, it is clear our dataset has 3 columns named as 'x_1', 'x_2' and y.\n",
    "The total number of entries are 800. Column 'y' has only two labels 0 and 1."
   ]
  },
  {
   "cell_type": "markdown",
   "id": "57b02c96",
   "metadata": {},
   "source": [
    "#### Data Preprocessing"
   ]
  },
  {
   "cell_type": "markdown",
   "id": "e5192cff",
   "metadata": {},
   "source": [
    "Let's analyse the data using the scatter plot"
   ]
  },
  {
   "cell_type": "markdown",
   "id": "9b77f525",
   "metadata": {},
   "source": [
    "plt.scatter() This function is used to create a scatter plot, which is a graphical representation of data points on a two-dimensional plane. Each data point is represented by a dot on the plot, with its position determined by the values of two numeric variables."
   ]
  },
  {
   "cell_type": "code",
   "execution_count": 35,
   "id": "6472fb7d",
   "metadata": {},
   "outputs": [
    {
     "data": {
      "text/plain": [
       "Text(0.5, 1.0, 'Original plot of data')"
      ]
     },
     "execution_count": 35,
     "metadata": {},
     "output_type": "execute_result"
    },
    {
     "data": {
      "image/png": "[encoded data removed]",
      "text/plain": [
       "<Figure size 640x480 with 1 Axes>"
      ]
     },
     "metadata": {},
     "output_type": "display_data"
    }
   ],
   "source": [
    "# The data is visualised on the scatter plot by plt.scatter\n",
    "# plt.xlabel prints the label of the data displayed on tbe x axis\n",
    "# plt.ylabel prints the label of the data displayed on tbe y axis\n",
    "# plt.title prints the title of the plot to be displayed at the top\n",
    "\n",
    "plt.scatter(X_train[:, 0], X_train[:, 1], c=y_train)\n",
    "plt.xlabel('Original x_1')\n",
    "plt.ylabel('Original x_2')\n",
    "plt.title(\"Original plot of data\")"
   ]
  },
  {
   "cell_type": "markdown",
   "id": "f730c932",
   "metadata": {},
   "source": [
    "It is clear that there is no noise in this data. So, QuantileTransformer and StandardScaler are not going to give drastic changes"
   ]
  },
  {
   "cell_type": "markdown",
   "id": "04725de6",
   "metadata": {},
   "source": [
    "Instead I am using PolynomialFeatures\n",
    "\n",
    "In this, it takes an input as degree and considers all the features of that degree\n",
    "\n",
    "By running a few tests, I have concluded degree=25"
   ]
  },
  {
   "cell_type": "code",
   "execution_count": 36,
   "id": "3ec39468",
   "metadata": {},
   "outputs": [],
   "source": [
    "# PolynomialFeature is used to preprocess the data before training the model\n",
    "# degree takes the maximum degree till which it has to consider while transforming the data\n",
    "# .fit_transform() transforms the data and fit it according to the procedure of PolynomialFeatures and with that degree \n",
    "\n",
    "X_train_new = PolynomialFeatures(degree=25).fit_transform(X_train) # 7 0.91875\n",
    "X_test_new =  PolynomialFeatures(degree=25).fit_transform(X_test)  # 9 0.93"
   ]
  },
  {
   "cell_type": "markdown",
   "id": "6b162660",
   "metadata": {},
   "source": [
    "After preprocessing the data, the model is defined"
   ]
  },
  {
   "cell_type": "code",
   "execution_count": 37,
   "id": "4344d988",
   "metadata": {},
   "outputs": [],
   "source": [
    "# Defining model\n",
    "\n",
    "model = LinearDiscriminantAnalysis()"
   ]
  },
  {
   "cell_type": "markdown",
   "id": "1ed08693",
   "metadata": {},
   "source": [
    "### LinearDiscriminantAnalysis has a few hyperparameters"
   ]
  },
  {
   "cell_type": "markdown",
   "id": "22d1093c",
   "metadata": {},
   "source": [
    "'solver' refers to the method or algorithm used to estimate the parameters of the Gaussian distributions for each class in the dataset. GDA is a generative model that assumes the feature distributions follow multivariate Gaussian distributions. The goal of the solver in GDA is to estimate the mean vectors and covariance matrices for each class based on the training data.\n",
    "\n",
    "There are three main solvers available in GDA:\n",
    "\n",
    "1) svd (Singular Value Decomposition): This solver computes the Singular Value Decomposition of the class covariance matrix. It is the default solver in scikit-learn's implementation of GDA. SVD is efficient for high-dimensional datasets and helps in calculating the inverse of the covariance matrix.\n",
    "\n",
    "2) lsqr (Least Squares Solution): The lsqr solver estimates the covariance matrix using a least squares approach. It is particularly useful when dealing with singular or ill-conditioned covariance matrices.\n",
    "\n",
    "3) eigen (Eigenvalue Decomposition): The eigen solver calculates the covariance matrix's eigenvalues and eigenvectors. It is well-suited when the number of features is relatively small compared to the number of samples."
   ]
  },
  {
   "cell_type": "markdown",
   "id": "d47f8116",
   "metadata": {},
   "source": [
    "### GridSearchCV"
   ]
  },
  {
   "cell_type": "markdown",
   "id": "e69d9793",
   "metadata": {},
   "source": [
    "GridSearchCV (Grid Search Cross-Validation) is a technique for hyperparameter tuning and model selection in machine learning. It is a systematic way of searching through a predefined set of hyperparameter values to find the combination that yields the best model performance. GridSearchCV is commonly used to optimize the hyperparameters of a machine learning model and improve its generalization on unseen data."
   ]
  },
  {
   "cell_type": "code",
   "execution_count": 38,
   "id": "f209a78b",
   "metadata": {},
   "outputs": [],
   "source": [
    "# Defining the parameter to be hypertuned\n",
    "parameters = {\n",
    "    'solver': ['svd', 'lsqr']\n",
    "}"
   ]
  },
  {
   "cell_type": "markdown",
   "id": "2863d92e",
   "metadata": {},
   "source": [
    "GridSearchCV() takes three parameters \n",
    "\n",
    "1) model: It takes the machine learning model as input on which the data is to be trained\n",
    "\n",
    "2) parameters: It takes the hyperparameters of the above prescribed model that are to be tuned\n",
    "\n",
    "3) cv: It takes the input for cross-validation. In this, it breaks the data into the n units and then train the data on n-1 units and gets it checked by the nth data. It does it in n steps where every segment of data is tested one time. \n",
    "\n",
    "For example, cv=5 it breaks the data into 5 equal parts. Then it trains the data on first 4 parts and gets it tested by the 5th segement of data. Then it trains on 1st, 2nd, 3rd and 5th segements of data and gets it tested on 4th segment of data and so on."
   ]
  },
  {
   "cell_type": "code",
   "execution_count": 39,
   "id": "cdcab396",
   "metadata": {},
   "outputs": [
    {
     "data": {
      "text/html": [
       "<style>#sk-container-id-2 {color: black;background-color: white;}#sk-container-id-2 pre{padding: 0;}#sk-container-id-2 div.sk-toggleable {background-color: white;}#sk-container-id-2 label.sk-toggleable__label {cursor: pointer;display: block;width: 100%;margin-bottom: 0;padding: 0.3em;box-sizing: border-box;text-align: center;}#sk-container-id-2 label.sk-toggleable__label-arrow:before {content: \"▸\";float: left;margin-right: 0.25em;color: #696969;}#sk-container-id-2 label.sk-toggleable__label-arrow:hover:before {color: black;}#sk-container-id-2 div.sk-estimator:hover label.sk-toggleable__label-arrow:before {color: black;}#sk-container-id-2 div.sk-toggleable__content {max-height: 0;max-width: 0;overflow: hidden;text-align: left;background-color: #f0f8ff;}#sk-container-id-2 div.sk-toggleable__content pre {margin: 0.2em;color: black;border-radius: 0.25em;background-color: #f0f8ff;}#sk-container-id-2 input.sk-toggleable__control:checked~div.sk-toggleable__content {max-height: 200px;max-width: 100%;overflow: auto;}#sk-container-id-2 input.sk-toggleable__control:checked~label.sk-toggleable__label-arrow:before {content: \"▾\";}#sk-container-id-2 div.sk-estimator input.sk-toggleable__control:checked~label.sk-toggleable__label {background-color: #d4ebff;}#sk-container-id-2 div.sk-label input.sk-toggleable__control:checked~label.sk-toggleable__label {background-color: #d4ebff;}#sk-container-id-2 input.sk-hidden--visually {border: 0;clip: rect(1px 1px 1px 1px);clip: rect(1px, 1px, 1px, 1px);height: 1px;margin: -1px;overflow: hidden;padding: 0;position: absolute;width: 1px;}#sk-container-id-2 div.sk-estimator {font-family: monospace;background-color: #f0f8ff;border: 1px dotted black;border-radius: 0.25em;box-sizing: border-box;margin-bottom: 0.5em;}#sk-container-id-2 div.sk-estimator:hover {background-color: #d4ebff;}#sk-container-id-2 div.sk-parallel-item::after {content: \"\";width: 100%;border-bottom: 1px solid gray;flex-grow: 1;}#sk-container-id-2 div.sk-label:hover label.sk-toggleable__label {background-color: #d4ebff;}#sk-container-id-2 div.sk-serial::before {content: \"\";position: absolute;border-left: 1px solid gray;box-sizing: border-box;top: 0;bottom: 0;left: 50%;z-index: 0;}#sk-container-id-2 div.sk-serial {display: flex;flex-direction: column;align-items: center;background-color: white;padding-right: 0.2em;padding-left: 0.2em;position: relative;}#sk-container-id-2 div.sk-item {position: relative;z-index: 1;}#sk-container-id-2 div.sk-parallel {display: flex;align-items: stretch;justify-content: center;background-color: white;position: relative;}#sk-container-id-2 div.sk-item::before, #sk-container-id-2 div.sk-parallel-item::before {content: \"\";position: absolute;border-left: 1px solid gray;box-sizing: border-box;top: 0;bottom: 0;left: 50%;z-index: -1;}#sk-container-id-2 div.sk-parallel-item {display: flex;flex-direction: column;z-index: 1;position: relative;background-color: white;}#sk-container-id-2 div.sk-parallel-item:first-child::after {align-self: flex-end;width: 50%;}#sk-container-id-2 div.sk-parallel-item:last-child::after {align-self: flex-start;width: 50%;}#sk-container-id-2 div.sk-parallel-item:only-child::after {width: 0;}#sk-container-id-2 div.sk-dashed-wrapped {border: 1px dashed gray;margin: 0 0.4em 0.5em 0.4em;box-sizing: border-box;padding-bottom: 0.4em;background-color: white;}#sk-container-id-2 div.sk-label label {font-family: monospace;font-weight: bold;display: inline-block;line-height: 1.2em;}#sk-container-id-2 div.sk-label-container {text-align: center;}#sk-container-id-2 div.sk-container {/* jupyter's `normalize.less` sets `[hidden] { display: none; }` but bootstrap.min.css set `[hidden] { display: none !important; }` so we also need the `!important` here to be able to override the default hidden behavior on the sphinx rendered scikit-learn.org. See: https://github.com/scikit-learn/scikit-learn/issues/21755 */display: inline-block !important;position: relative;}#sk-container-id-2 div.sk-text-repr-fallback {display: none;}</style><div id=\"sk-container-id-2\" class=\"sk-top-container\"><div class=\"sk-text-repr-fallback\"><pre>GridSearchCV(cv=5, estimator=LinearDiscriminantAnalysis(),\n",
       "             param_grid={&#x27;solver&#x27;: [&#x27;svd&#x27;, &#x27;lsqr&#x27;]})</pre><b>In a Jupyter environment, please rerun this cell to show the HTML representation or trust the notebook. <br />On GitHub, the HTML representation is unable to render, please try loading this page with nbviewer.org.</b></div><div class=\"sk-container\" hidden><div class=\"sk-item sk-dashed-wrapped\"><div class=\"sk-label-container\"><div class=\"sk-label sk-toggleable\"><input class=\"sk-toggleable__control sk-hidden--visually\" id=\"sk-estimator-id-4\" type=\"checkbox\" ><label for=\"sk-estimator-id-4\" class=\"sk-toggleable__label sk-toggleable__label-arrow\">GridSearchCV</label><div class=\"sk-toggleable__content\"><pre>GridSearchCV(cv=5, estimator=LinearDiscriminantAnalysis(),\n",
       "             param_grid={&#x27;solver&#x27;: [&#x27;svd&#x27;, &#x27;lsqr&#x27;]})</pre></div></div></div><div class=\"sk-parallel\"><div class=\"sk-parallel-item\"><div class=\"sk-item\"><div class=\"sk-label-container\"><div class=\"sk-label sk-toggleable\"><input class=\"sk-toggleable__control sk-hidden--visually\" id=\"sk-estimator-id-5\" type=\"checkbox\" ><label for=\"sk-estimator-id-5\" class=\"sk-toggleable__label sk-toggleable__label-arrow\">estimator: LinearDiscriminantAnalysis</label><div class=\"sk-toggleable__content\"><pre>LinearDiscriminantAnalysis()</pre></div></div></div><div class=\"sk-serial\"><div class=\"sk-item\"><div class=\"sk-estimator sk-toggleable\"><input class=\"sk-toggleable__control sk-hidden--visually\" id=\"sk-estimator-id-6\" type=\"checkbox\" ><label for=\"sk-estimator-id-6\" class=\"sk-toggleable__label sk-toggleable__label-arrow\">LinearDiscriminantAnalysis</label><div class=\"sk-toggleable__content\"><pre>LinearDiscriminantAnalysis()</pre></div></div></div></div></div></div></div></div></div></div>"
      ],
      "text/plain": [
       "GridSearchCV(cv=5, estimator=LinearDiscriminantAnalysis(),\n",
       "             param_grid={'solver': ['svd', 'lsqr']})"
      ]
     },
     "execution_count": 39,
     "metadata": {},
     "output_type": "execute_result"
    }
   ],
   "source": [
    "# Defining GridSearchCV by the name grid\n",
    "# Here the model is LinearDiscriminativeAnalysis \n",
    "# parameters to be hypertuned is solver defined above\n",
    "# cv is defined as 5 means it will break the data into 5 segment and will print each of its acuuracy\n",
    "\n",
    "grid = GridSearchCV(model, parameters, cv=5)\n",
    "\n",
    "# .fit() is used to fit the data in the object grid\n",
    "# X_train_new is the PolynomialFeatures dataset\n",
    "# y_train is the target label of the training set\n",
    "\n",
    "grid.fit(X_train_new, y_train)"
   ]
  },
  {
   "cell_type": "code",
   "execution_count": 40,
   "id": "479e8856",
   "metadata": {},
   "outputs": [
    {
     "data": {
      "text/html": [
       "<div>\n",
       "<style scoped>\n",
       "    .dataframe tbody tr th:only-of-type {\n",
       "        vertical-align: middle;\n",
       "    }\n",
       "\n",
       "    .dataframe tbody tr th {\n",
       "        vertical-align: top;\n",
       "    }\n",
       "\n",
       "    .dataframe thead th {\n",
       "        text-align: right;\n",
       "    }\n",
       "</style>\n",
       "<table border=\"1\" class=\"dataframe\">\n",
       "  <thead>\n",
       "    <tr style=\"text-align: right;\">\n",
       "      <th></th>\n",
       "      <th>mean_fit_time</th>\n",
       "      <th>std_fit_time</th>\n",
       "      <th>mean_score_time</th>\n",
       "      <th>std_score_time</th>\n",
       "      <th>param_solver</th>\n",
       "      <th>params</th>\n",
       "      <th>split0_test_score</th>\n",
       "      <th>split1_test_score</th>\n",
       "      <th>split2_test_score</th>\n",
       "      <th>split3_test_score</th>\n",
       "      <th>split4_test_score</th>\n",
       "      <th>mean_test_score</th>\n",
       "      <th>std_test_score</th>\n",
       "      <th>rank_test_score</th>\n",
       "    </tr>\n",
       "  </thead>\n",
       "  <tbody>\n",
       "    <tr>\n",
       "      <th>0</th>\n",
       "      <td>0.129077</td>\n",
       "      <td>0.035768</td>\n",
       "      <td>0.00533</td>\n",
       "      <td>0.006689</td>\n",
       "      <td>svd</td>\n",
       "      <td>{'solver': 'svd'}</td>\n",
       "      <td>0.88125</td>\n",
       "      <td>0.91875</td>\n",
       "      <td>0.89375</td>\n",
       "      <td>0.93750</td>\n",
       "      <td>0.90625</td>\n",
       "      <td>0.9075</td>\n",
       "      <td>0.019526</td>\n",
       "      <td>1</td>\n",
       "    </tr>\n",
       "    <tr>\n",
       "      <th>1</th>\n",
       "      <td>0.083254</td>\n",
       "      <td>0.004778</td>\n",
       "      <td>0.00000</td>\n",
       "      <td>0.000000</td>\n",
       "      <td>lsqr</td>\n",
       "      <td>{'solver': 'lsqr'}</td>\n",
       "      <td>0.71875</td>\n",
       "      <td>0.67500</td>\n",
       "      <td>0.72500</td>\n",
       "      <td>0.73125</td>\n",
       "      <td>0.68750</td>\n",
       "      <td>0.7075</td>\n",
       "      <td>0.022150</td>\n",
       "      <td>2</td>\n",
       "    </tr>\n",
       "  </tbody>\n",
       "</table>\n",
       "</div>"
      ],
      "text/plain": [
       "   mean_fit_time  std_fit_time  mean_score_time  std_score_time param_solver  \\\n",
       "0       0.129077      0.035768          0.00533        0.006689          svd   \n",
       "1       0.083254      0.004778          0.00000        0.000000         lsqr   \n",
       "\n",
       "               params  split0_test_score  split1_test_score  \\\n",
       "0   {'solver': 'svd'}            0.88125            0.91875   \n",
       "1  {'solver': 'lsqr'}            0.71875            0.67500   \n",
       "\n",
       "   split2_test_score  split3_test_score  split4_test_score  mean_test_score  \\\n",
       "0            0.89375            0.93750            0.90625           0.9075   \n",
       "1            0.72500            0.73125            0.68750           0.7075   \n",
       "\n",
       "   std_test_score  rank_test_score  \n",
       "0        0.019526                1  \n",
       "1        0.022150                2  "
      ]
     },
     "execution_count": 40,
     "metadata": {},
     "output_type": "execute_result"
    }
   ],
   "source": [
    "# .cv_results_ has a unique feature which comes with GridSearchCV\n",
    "# This prints various information such as the parameters and their respective test scores and so on\n",
    "\n",
    "# That tabular data is converted into a DataFrame to have a better visualisation of data\n",
    "cv_score = pd.DataFrame(grid.cv_results_)\n",
    "cv_score"
   ]
  },
  {
   "cell_type": "code",
   "execution_count": 41,
   "id": "96b6ada9",
   "metadata": {},
   "outputs": [
    {
     "data": {
      "text/plain": [
       "{'solver': 'svd'}"
      ]
     },
     "execution_count": 41,
     "metadata": {},
     "output_type": "execute_result"
    }
   ],
   "source": [
    "# Extracting the parameters with best accuracy\n",
    "# .best_param_ gives the best parameters required for the maximum mean_test_score\n",
    "\n",
    "grid.best_params_"
   ]
  },
  {
   "cell_type": "markdown",
   "id": "1317e2e0",
   "metadata": {},
   "source": [
    "### Implementing the model"
   ]
  },
  {
   "cell_type": "markdown",
   "id": "bd164f5f",
   "metadata": {},
   "source": [
    "After preprocessing the data and finding the required parameters which would provide the best accuracy, its time to calculate the final accuracy."
   ]
  },
  {
   "cell_type": "code",
   "execution_count": 42,
   "id": "f3790a67",
   "metadata": {},
   "outputs": [],
   "source": [
    "# Defining the model\n",
    "# The parameters are set according to the parameters' values obtained above\n",
    "# .fit() function is used to fit X_train_new and y_train and train according to it\n",
    "# X_train_new is the PolynomialFeatures() dataset\n",
    "\n",
    "model = LinearDiscriminantAnalysis(solver='svd').fit(X_train_new, y_train)"
   ]
  },
  {
   "cell_type": "code",
   "execution_count": 43,
   "id": "f6501e54",
   "metadata": {
    "scrolled": true
   },
   "outputs": [
    {
     "data": {
      "text/plain": [
       "array([0., 0., 0., 0., 0., 0., 0., 1., 0., 0., 0., 0., 0., 1., 0., 0., 0.,\n",
       "       0., 0., 0., 0., 0., 0., 0., 0., 1., 1., 0., 0., 0., 0., 0., 0., 0.,\n",
       "       0., 0., 0., 0., 0., 0., 0., 0., 0., 0., 0., 0., 0., 1., 0., 0., 0.,\n",
       "       0., 0., 1., 0., 0., 0., 0., 0., 0., 0., 0., 0., 0., 0., 1., 1., 0.,\n",
       "       1., 1., 0., 0., 0., 0., 0., 0., 0., 0., 0., 0., 0., 0., 0., 0., 0.,\n",
       "       0., 0., 0., 0., 0., 0., 0., 0., 0., 0., 0., 0., 0., 0., 0., 0., 0.,\n",
       "       0., 0., 0., 0., 0., 0., 0., 0., 0., 0., 0., 0., 0., 0., 0., 0., 0.,\n",
       "       0., 0., 0., 0., 0., 0., 0., 1., 1., 0., 0., 0., 0., 0., 0., 0., 0.,\n",
       "       0., 0., 0., 0., 0., 0., 0., 0., 0., 0., 1., 0., 0., 0., 0., 0., 0.,\n",
       "       1., 0., 0., 0., 0., 0., 0., 0., 1., 0., 0., 0., 0., 1., 0., 0., 0.,\n",
       "       0., 0., 0., 0., 0., 0., 0., 0., 0., 0., 0., 0., 0., 0., 0., 0., 0.,\n",
       "       0., 0., 0., 0., 0., 0., 0., 0., 0., 0., 1., 0., 0., 1., 0., 0., 1.,\n",
       "       0., 0., 0., 0., 0., 0., 0., 0., 0., 0., 0., 0., 0., 0., 0., 1., 0.,\n",
       "       0., 0., 0., 0., 0., 0., 0., 0., 0., 0., 0., 0., 0., 0., 0., 1., 0.,\n",
       "       0., 0., 0., 0., 0., 0., 0., 0., 1., 0., 0., 1., 0., 0., 0., 1., 0.,\n",
       "       0., 0., 0., 1., 0., 0., 0., 0., 0., 0., 0., 0., 0., 0., 0., 0., 0.,\n",
       "       0., 0., 0., 0., 0., 0., 0., 0., 0., 0., 0., 0., 0., 0., 0., 0., 0.,\n",
       "       0., 0., 0., 0., 0., 0., 0., 0., 0., 0., 0., 0., 0., 0., 0., 0., 0.,\n",
       "       0., 0., 1., 0., 0., 0., 0., 0., 0., 0., 0., 0., 0., 0., 0., 0., 0.,\n",
       "       1., 0., 0., 0., 0., 0., 0., 0., 0., 0., 0., 0., 0., 0., 0., 1., 0.,\n",
       "       0., 0., 0., 0., 0., 1., 0., 0., 0., 0., 0., 0., 0., 1., 0., 0., 0.,\n",
       "       0., 0., 0., 0., 0., 0., 0., 0., 0., 1., 0., 0., 0., 0., 0., 0., 0.,\n",
       "       0., 0., 0., 0., 0., 0., 0., 0., 0., 0., 0., 0., 0., 1., 0., 0., 0.,\n",
       "       0., 0., 0., 0., 0., 0., 0., 0., 0., 1., 1., 1., 1., 1., 1., 1., 1.,\n",
       "       1., 1., 0., 1., 1., 1., 1., 1., 1., 0., 1., 1., 1., 1., 1., 1., 1.,\n",
       "       1., 1., 1., 1., 1., 1., 1., 1., 0., 1., 1., 1., 0., 1., 1., 1., 1.,\n",
       "       1., 1., 1., 1., 1., 1., 1., 1., 1., 0., 1., 1., 1., 1., 1., 0., 1.,\n",
       "       0., 1., 1., 1., 1., 1., 1., 1., 0., 1., 1., 1., 1., 1., 1., 1., 1.,\n",
       "       1., 1., 1., 1., 1., 1., 0., 1., 0., 1., 1., 1., 1., 0., 1., 1., 1.,\n",
       "       1., 1., 1., 1., 1., 1., 1., 1., 1., 1., 1., 1., 1., 1., 1., 1., 0.,\n",
       "       1., 1., 1., 1., 1., 1., 1., 1., 1., 1., 1., 1., 1., 1., 1., 1., 0.,\n",
       "       0., 1., 1., 1., 1., 0., 1., 1., 1., 1., 1., 1., 1., 1., 1., 1., 1.,\n",
       "       1., 1., 1., 1., 1., 1., 1., 1., 1., 1., 1., 1., 1., 1., 1., 1., 1.,\n",
       "       0., 1., 1., 1., 0., 0., 0., 1., 1., 0., 1., 1., 1., 1., 1., 1., 1.,\n",
       "       1., 1., 1., 1., 1., 1., 1., 1., 1., 1., 1., 1., 1., 1., 1., 1., 1.,\n",
       "       1., 1., 1., 1., 1., 1., 1., 1., 1., 1., 1., 1., 1., 1., 1., 1., 1.,\n",
       "       1., 1., 0., 1., 1., 1., 1., 1., 1., 1., 1., 1., 1., 1., 1., 1., 1.,\n",
       "       1., 1., 1., 1., 0., 1., 1., 1., 1., 1., 1., 1., 1., 1., 1., 1., 1.,\n",
       "       1., 1., 0., 0., 1., 1., 1., 1., 1., 1., 1., 1., 1., 1., 1., 1., 1.,\n",
       "       1., 1., 1., 1., 1., 1., 1., 1., 1., 1., 1., 1., 1., 1., 1., 1., 1.,\n",
       "       1., 1., 1., 1., 1., 1., 1., 1., 1., 1., 1., 1., 1., 0., 1., 1., 1.,\n",
       "       1., 1., 1., 1., 1., 1., 1., 1., 1., 0., 1., 1., 1., 1., 0., 1., 1.,\n",
       "       1., 1., 1., 1., 1., 1., 1., 1., 1., 1., 1., 0., 1., 1., 1., 1., 1.,\n",
       "       1., 0., 1., 0., 1., 1., 1., 1., 1., 1., 1., 1., 1., 1., 1., 0., 1.,\n",
       "       1., 1., 1., 1., 1., 1., 1., 1., 1., 1., 1., 1., 1., 1., 1., 1., 1.,\n",
       "       1., 1., 1., 1., 1., 1., 1., 1., 1., 1., 1., 1., 1., 0., 1., 1., 1.,\n",
       "       1., 1., 1., 1., 1., 1., 1., 1., 1., 1., 1., 1., 1., 1., 1., 1., 1.,\n",
       "       1.])"
      ]
     },
     "execution_count": 43,
     "metadata": {},
     "output_type": "execute_result"
    }
   ],
   "source": [
    "# .predict is used to predict the output based on the above learning\n",
    "# It predicts the X_train_new datset\n",
    "\n",
    "model.predict(X_train_new)"
   ]
  },
  {
   "cell_type": "code",
   "execution_count": 44,
   "id": "213b9619",
   "metadata": {},
   "outputs": [],
   "source": [
    "# Accuracy of the predicted output is printed by accuracy_score method\n",
    "\n",
    "X_train_prediction = model.predict(X_train_new)\n",
    "train_accuracy = accuracy_score(y_train, X_train_prediction)"
   ]
  },
  {
   "cell_type": "code",
   "execution_count": 45,
   "id": "9fbd53ae",
   "metadata": {},
   "outputs": [
    {
     "data": {
      "text/plain": [
       "0.92"
      ]
     },
     "execution_count": 45,
     "metadata": {},
     "output_type": "execute_result"
    }
   ],
   "source": [
    "# Printing the accuracy on th training set by the above designed model\n",
    "train_accuracy"
   ]
  },
  {
   "cell_type": "code",
   "execution_count": 46,
   "id": "d552e567",
   "metadata": {},
   "outputs": [],
   "source": [
    "# Accuracy of the predicted output is printed by accuracy_score method\n",
    "\n",
    "X_test_prediction = model.predict(X_test_new)\n",
    "test_accuracy = accuracy_score(y_test, X_test_prediction)"
   ]
  },
  {
   "cell_type": "code",
   "execution_count": 55,
   "id": "bd8973e8",
   "metadata": {},
   "outputs": [
    {
     "data": {
      "text/plain": [
       "0.91"
      ]
     },
     "execution_count": 55,
     "metadata": {},
     "output_type": "execute_result"
    }
   ],
   "source": [
    "# Printing the accuracy on th training set by the above designed model\n",
    "test_accuracy"
   ]
  },
  {
   "cell_type": "markdown",
   "id": "6eeb731e",
   "metadata": {},
   "source": [
    "Predicting the test data"
   ]
  },
  {
   "cell_type": "code",
   "execution_count": 56,
   "id": "3a0933e3",
   "metadata": {},
   "outputs": [],
   "source": [
    "# Accuracy of the predicted output is printed by accuracy_score method\n",
    "\n",
    "X_test_prediction = model.predict(X_test_new)\n",
    "test_accuracy = accuracy_score(y_test, X_test_prediction)"
   ]
  },
  {
   "cell_type": "code",
   "execution_count": 57,
   "id": "997f274d",
   "metadata": {},
   "outputs": [
    {
     "data": {
      "text/plain": [
       "0.91"
      ]
     },
     "execution_count": 57,
     "metadata": {},
     "output_type": "execute_result"
    }
   ],
   "source": [
    "test_accuracy"
   ]
  },
  {
   "cell_type": "markdown",
   "id": "72348f68",
   "metadata": {},
   "source": [
    "This model gives an accuracy of 0.92 on the training and 0.91 on the test data as well"
   ]
  },
  {
   "cell_type": "markdown",
   "id": "056ae543",
   "metadata": {},
   "source": [
    "To get a better idea about the model confusion matrix, precision score, recall score and f1 score are defined"
   ]
  },
  {
   "cell_type": "markdown",
   "id": "c8322c5c",
   "metadata": {},
   "source": [
    "### Mertrics Evaluation"
   ]
  },
  {
   "cell_type": "markdown",
   "id": "7e349e0b",
   "metadata": {},
   "source": [
    "A confusion matrix is a table used to evaluate the performance of a classification model by comparing its predicted labels against the actual labels.\n",
    "\n",
    "It provides a clear representation of the model's true positive (TP), false positive (FP), true negative (TN), and false negative (FN) predictions.\n",
    "\n",
    "The main diagonal of the confusion matrix contains the correct predictions (TP and TN), and the off-diagonal elements represent incorrect predictions (FP and FN)"
   ]
  },
  {
   "cell_type": "code",
   "execution_count": 59,
   "id": "9d41b5d9",
   "metadata": {},
   "outputs": [
    {
     "name": "stdout",
     "output_type": "stream",
     "text": [
      "Training Confusion Matrix: \n",
      " [[368  32]\n",
      " [ 32 368]]\n",
      "Testing Confusion Matrix: \n",
      " [[46  4]\n",
      " [ 5 45]]\n"
     ]
    }
   ],
   "source": [
    "# Implementing the Confusion matrix\n",
    "\n",
    "cf_matrix_train = confusion_matrix(y_train, X_train_prediction)\n",
    "cf_matrix_test = confusion_matrix(y_test, X_test_prediction)\n",
    "\n",
    "print('Training Confusion Matrix: \\n', cf_matrix_train)\n",
    "print('Testing Confusion Matrix: \\n', cf_matrix_test)\n"
   ]
  },
  {
   "cell_type": "markdown",
   "id": "424a4525",
   "metadata": {},
   "source": [
    "Precision is a measure of how many of the predicted positive instances are actually positive.\n",
    "\n",
    "It is the ratio of the positive cases predicted as positive and the total number of actual positive cases."
   ]
  },
  {
   "cell_type": "code",
   "execution_count": 60,
   "id": "1a8d8079",
   "metadata": {},
   "outputs": [
    {
     "name": "stdout",
     "output_type": "stream",
     "text": [
      "Training Data Precision:  0.92\n",
      "Testing Data Precision:  0.9183673469387755\n"
     ]
    }
   ],
   "source": [
    "x_train_precision = precision_score(y_train, X_train_prediction)\n",
    "print('Training Data Precision: ', x_train_precision)\n",
    "x_test_precision = precision_score(y_test, X_test_prediction)\n",
    "print('Testing Data Precision: ', x_test_precision)"
   ]
  },
  {
   "cell_type": "markdown",
   "id": "41a6724b",
   "metadata": {},
   "source": [
    "Recall is a measure of how many of the actual positive instances are correctly predicted as positive by the model.\n",
    "\n",
    "It is the ratio of correct positive cases and the total cases predicted as positive"
   ]
  },
  {
   "cell_type": "code",
   "execution_count": 61,
   "id": "c6fee3b1",
   "metadata": {},
   "outputs": [
    {
     "name": "stdout",
     "output_type": "stream",
     "text": [
      "Training Data Recall:  0.92\n",
      "Testing Data Recall:  0.9\n"
     ]
    }
   ],
   "source": [
    "# Implementing recall score\n",
    "\n",
    "x_train_recall = recall_score(y_train, X_train_prediction)\n",
    "print('Training Data Recall: ', x_train_recall)\n",
    "x_test_recall = recall_score(y_test, X_test_prediction)\n",
    "print('Testing Data Recall: ', x_test_recall)"
   ]
  },
  {
   "cell_type": "markdown",
   "id": "b7934b60",
   "metadata": {},
   "source": [
    "The F1 score is the harmonic mean of precision and recall. \n",
    "\n",
    "It balances precision and recall and provides a single metric to evaluate the model's performance"
   ]
  },
  {
   "cell_type": "code",
   "execution_count": 63,
   "id": "923b7028",
   "metadata": {},
   "outputs": [
    {
     "name": "stdout",
     "output_type": "stream",
     "text": [
      "Training Data F1_score:  0.92\n",
      "Testing Data F1_score:  0.9090909090909091\n"
     ]
    }
   ],
   "source": [
    "x_train_f1score = f1_score(y_train, X_train_prediction)\n",
    "print('Training Data F1_score: ', x_train_f1score)\n",
    "\n",
    "x_test_f1score = f1_score(y_test, X_test_prediction)\n",
    "print('Testing Data F1_score: ', x_test_f1score)"
   ]
  },
  {
   "cell_type": "markdown",
   "id": "9b097b65",
   "metadata": {},
   "source": [
    "It is clear that the above designed model is a pretty good model"
   ]
  },
  {
   "cell_type": "markdown",
   "id": "b48ec3ca",
   "metadata": {},
   "source": [
    "### Comparison with the model built from scratch"
   ]
  },
  {
   "cell_type": "markdown",
   "id": "44c4f282",
   "metadata": {},
   "source": [
    "The accuracy of model built from scratch as described in Sub_Task_2 is \n",
    "\n",
    "0.91375 for the training set\n",
    "\n",
    "0.91 for the test set"
   ]
  },
  {
   "cell_type": "markdown",
   "id": "a26b429e",
   "metadata": {},
   "source": [
    "The accuracy of model built using scikit-learn libraries is \n",
    "\n",
    "0.92 for the training set\n",
    "\n",
    "0.91 for the test set"
   ]
  },
  {
   "cell_type": "markdown",
   "id": "029e0898",
   "metadata": {},
   "source": [
    "# Thank You"
   ]
  }
 ],
 "metadata": {
  "kernelspec": {
   "display_name": "Python 3 (ipykernel)",
   "language": "python",
   "name": "python3"
  },
  "language_info": {
   "codemirror_mode": {
    "name": "ipython",
    "version": 3
   },
   "file_extension": ".py",
   "mimetype": "text/x-python",
   "name": "python",
   "nbconvert_exporter": "python",
   "pygments_lexer": "ipython3",
   "version": "3.10.9"
  }
 },
 "nbformat": 4,
 "nbformat_minor": 5
}
