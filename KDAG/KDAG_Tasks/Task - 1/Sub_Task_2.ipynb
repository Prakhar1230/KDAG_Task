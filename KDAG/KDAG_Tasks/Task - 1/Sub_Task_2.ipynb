{
 "cells": [
  {
   "cell_type": "markdown",
   "id": "786413db",
   "metadata": {},
   "source": [
    "# Logistic_Regression"
   ]
  },
  {
   "cell_type": "markdown",
   "id": "02ec111a",
   "metadata": {},
   "source": [
    "In this subtask, Logistic Regression model is used to train on 'ds1_train.csv' and then tested on 'ds1_test.csv'."
   ]
  },
  {
   "cell_type": "markdown",
   "id": "201f6df4",
   "metadata": {},
   "source": [
    "The required libraries for this task are numpy and pandas.\n",
    "\n",
    "Numpy is used to create array and its functions are used such as exponential function, dot product, transpose of a matrix etc.\n",
    "\n",
    "Pandas is used to read data from the csv files and convert it into list of arrays."
   ]
  },
  {
   "cell_type": "code",
   "execution_count": 1,
   "id": "e4ab67df",
   "metadata": {},
   "outputs": [],
   "source": [
    "# Importing required libraries\n",
    "\n",
    "import numpy as np\n",
    "import pandas as pd"
   ]
  },
  {
   "cell_type": "markdown",
   "id": "67389580",
   "metadata": {},
   "source": [
    "The data from the csv files are extracted by pandas.read_csv function where it reads the data from the csv file and converts it into the dataframe."
   ]
  },
  {
   "cell_type": "code",
   "execution_count": 64,
   "id": "8f453139",
   "metadata": {},
   "outputs": [],
   "source": [
    "# Initialising the traning and test examples\n",
    "# df_train represents the traning DataFrame\n",
    "\n",
    "df_train = pd.read_csv('ds1_train.csv')\n",
    "df_test = pd.read_csv('ds1_test.csv')"
   ]
  },
  {
   "cell_type": "code",
   "execution_count": 65,
   "id": "35e1d46b",
   "metadata": {},
   "outputs": [
    {
     "data": {
      "text/html": [
       "<div>\n",
       "<style scoped>\n",
       "    .dataframe tbody tr th:only-of-type {\n",
       "        vertical-align: middle;\n",
       "    }\n",
       "\n",
       "    .dataframe tbody tr th {\n",
       "        vertical-align: top;\n",
       "    }\n",
       "\n",
       "    .dataframe thead th {\n",
       "        text-align: right;\n",
       "    }\n",
       "</style>\n",
       "<table border=\"1\" class=\"dataframe\">\n",
       "  <thead>\n",
       "    <tr style=\"text-align: right;\">\n",
       "      <th></th>\n",
       "      <th>x_1</th>\n",
       "      <th>x_2</th>\n",
       "      <th>y</th>\n",
       "    </tr>\n",
       "  </thead>\n",
       "  <tbody>\n",
       "    <tr>\n",
       "      <th>0</th>\n",
       "      <td>2.911809</td>\n",
       "      <td>60.359613</td>\n",
       "      <td>0.0</td>\n",
       "    </tr>\n",
       "    <tr>\n",
       "      <th>1</th>\n",
       "      <td>3.774746</td>\n",
       "      <td>344.149284</td>\n",
       "      <td>0.0</td>\n",
       "    </tr>\n",
       "    <tr>\n",
       "      <th>2</th>\n",
       "      <td>2.615488</td>\n",
       "      <td>178.222087</td>\n",
       "      <td>0.0</td>\n",
       "    </tr>\n",
       "    <tr>\n",
       "      <th>3</th>\n",
       "      <td>2.013694</td>\n",
       "      <td>15.259472</td>\n",
       "      <td>0.0</td>\n",
       "    </tr>\n",
       "    <tr>\n",
       "      <th>4</th>\n",
       "      <td>2.757625</td>\n",
       "      <td>66.194174</td>\n",
       "      <td>0.0</td>\n",
       "    </tr>\n",
       "    <tr>\n",
       "      <th>5</th>\n",
       "      <td>0.973922</td>\n",
       "      <td>41.677665</td>\n",
       "      <td>0.0</td>\n",
       "    </tr>\n",
       "    <tr>\n",
       "      <th>6</th>\n",
       "      <td>3.067275</td>\n",
       "      <td>143.275590</td>\n",
       "      <td>0.0</td>\n",
       "    </tr>\n",
       "    <tr>\n",
       "      <th>7</th>\n",
       "      <td>2.763094</td>\n",
       "      <td>35.969906</td>\n",
       "      <td>0.0</td>\n",
       "    </tr>\n",
       "    <tr>\n",
       "      <th>8</th>\n",
       "      <td>2.775772</td>\n",
       "      <td>29.569079</td>\n",
       "      <td>0.0</td>\n",
       "    </tr>\n",
       "    <tr>\n",
       "      <th>9</th>\n",
       "      <td>2.109830</td>\n",
       "      <td>76.636721</td>\n",
       "      <td>0.0</td>\n",
       "    </tr>\n",
       "  </tbody>\n",
       "</table>\n",
       "</div>"
      ],
      "text/plain": [
       "        x_1         x_2    y\n",
       "0  2.911809   60.359613  0.0\n",
       "1  3.774746  344.149284  0.0\n",
       "2  2.615488  178.222087  0.0\n",
       "3  2.013694   15.259472  0.0\n",
       "4  2.757625   66.194174  0.0\n",
       "5  0.973922   41.677665  0.0\n",
       "6  3.067275  143.275590  0.0\n",
       "7  2.763094   35.969906  0.0\n",
       "8  2.775772   29.569079  0.0\n",
       "9  2.109830   76.636721  0.0"
      ]
     },
     "execution_count": 65,
     "metadata": {},
     "output_type": "execute_result"
    }
   ],
   "source": [
    "# Printing the datframe df_train to see the type of data\n",
    "# pandas.head(n) function is used to print the first n data entries of the respective dataframe. By default n=5\n",
    "\n",
    "df_train.head(10)"
   ]
  },
  {
   "cell_type": "code",
   "execution_count": 95,
   "id": "f7da7641",
   "metadata": {},
   "outputs": [
    {
     "name": "stdout",
     "output_type": "stream",
     "text": [
      "x_1    0\n",
      "x_2    0\n",
      "y      0\n",
      "dtype: int64\n",
      "x_1    0\n",
      "x_2    0\n",
      "y      0\n",
      "dtype: int64\n"
     ]
    }
   ],
   "source": [
    "# It's important to check for the null values in both the training and the test dataset\n",
    "\n",
    "print(df_train.isnull().sum())\n",
    "print(df_test.isnull().sum())"
   ]
  },
  {
   "cell_type": "code",
   "execution_count": 66,
   "id": "b377cb6e",
   "metadata": {},
   "outputs": [
    {
     "data": {
      "text/plain": [
       "0.0    400\n",
       "1.0    400\n",
       "Name: y, dtype: int64"
      ]
     },
     "execution_count": 66,
     "metadata": {},
     "output_type": "execute_result"
    }
   ],
   "source": [
    "# Printing the data entries of column y to see the types of labels\n",
    "# pandas.value_counts() function is used to print the number of distinct entries in a particular coulmn\n",
    "\n",
    "df_train['y'].value_counts()"
   ]
  },
  {
   "cell_type": "code",
   "execution_count": 67,
   "id": "9908448f",
   "metadata": {},
   "outputs": [
    {
     "data": {
      "text/plain": [
       "800"
      ]
     },
     "execution_count": 67,
     "metadata": {},
     "output_type": "execute_result"
    }
   ],
   "source": [
    "# printing the total number of entries in a column\n",
    "# pandas.count() is used to show the total number of entries in a column\n",
    "\n",
    "df_train['y'].count()"
   ]
  },
  {
   "cell_type": "markdown",
   "id": "9c82c866",
   "metadata": {},
   "source": [
    "From the above few run tests, it is clear our dataset has 3 columns named as 'x_1', 'x_2' and y.\n",
    "The total number of entries are 800. Column 'y' has only two labels 0 and 1."
   ]
  },
  {
   "cell_type": "markdown",
   "id": "590ce7fd",
   "metadata": {},
   "source": [
    "So, it is feasible to train our model using the Logistic Regression model"
   ]
  },
  {
   "cell_type": "markdown",
   "id": "4c42df98",
   "metadata": {},
   "source": [
    "As it is a Logistic Regression model, we need a columnn lablled as 'x_0' with data entries equal to 1."
   ]
  },
  {
   "cell_type": "code",
   "execution_count": 2,
   "id": "2698c196",
   "metadata": {},
   "outputs": [
    {
     "ename": "NameError",
     "evalue": "name 'df_train' is not defined",
     "output_type": "error",
     "traceback": [
      "\u001b[1;31m---------------------------------------------------------------------------\u001b[0m",
      "\u001b[1;31mNameError\u001b[0m                                 Traceback (most recent call last)",
      "Cell \u001b[1;32mIn[2], line 3\u001b[0m\n\u001b[0;32m      1\u001b[0m \u001b[38;5;66;03m# Adding a column of data entries as 1\u001b[39;00m\n\u001b[1;32m----> 3\u001b[0m \u001b[43mdf_train\u001b[49m[\u001b[38;5;124m'\u001b[39m\u001b[38;5;124mx_0\u001b[39m\u001b[38;5;124m'\u001b[39m] \u001b[38;5;241m=\u001b[39m \u001b[38;5;241m1\u001b[39m\n\u001b[0;32m      4\u001b[0m df_test[\u001b[38;5;124m'\u001b[39m\u001b[38;5;124mx_0\u001b[39m\u001b[38;5;124m'\u001b[39m] \u001b[38;5;241m=\u001b[39m \u001b[38;5;241m1\u001b[39m\n\u001b[0;32m      6\u001b[0m \u001b[38;5;66;03m# Seperating the X and y of training data\u001b[39;00m\n\u001b[0;32m      7\u001b[0m \u001b[38;5;66;03m# pandas.values function converts the data of DataFrame into array\u001b[39;00m\n",
      "\u001b[1;31mNameError\u001b[0m: name 'df_train' is not defined"
     ]
    }
   ],
   "source": [
    "# Adding a column of data entries as 1\n",
    "\n",
    "df_train['x_0'] = 1\n",
    "df_test['x_0'] = 1\n",
    "\n",
    "# Seperating the X and y of training data\n",
    "# pandas.values function converts the data of DataFrame into array\n",
    "\n",
    "X_train = df_train[['x_0', 'x_1', 'x_2']].values\n",
    "y_train = df_train['y'].values\n",
    "\n",
    "X_test = df_test[['x_0', 'x_1', 'x_2']].values\n",
    "y_test = df_test['y'].values\n",
    "\n",
    "X_train"
   ]
  },
  {
   "cell_type": "markdown",
   "id": "7c014c11",
   "metadata": {},
   "source": [
    "For reference, Logistic Regression function uses sigmoid function"
   ]
  },
  {
   "cell_type": "code",
   "execution_count": 69,
   "id": "3092f511",
   "metadata": {},
   "outputs": [],
   "source": [
    "# In Logistic Regression hypothesis function is the sigmoid function\n",
    "# Defining the sigmoid function\n",
    "\n",
    "def sigmoid(x):\n",
    "    return 1/(1 + np.exp(-x))"
   ]
  },
  {
   "cell_type": "markdown",
   "id": "6d2425db",
   "metadata": {},
   "source": [
    "It's time for the gradient ascent function in which theta will be updated everytime the loop runs.\n",
    "\n",
    "alpha is the learning rate and num_iter is the number of iterations the loop runs."
   ]
  },
  {
   "cell_type": "code",
   "execution_count": 80,
   "id": "04e87c68",
   "metadata": {},
   "outputs": [],
   "source": [
    "# Declaring gradient ascent function\n",
    "# array.shape gives the dimensions of array\n",
    "\n",
    "m_train, n_train = X_train.shape\n",
    "m_test, n_test = X_test.shape\n",
    "def gradient_ascent(X, y, alpha, num_iter):\n",
    "    \n",
    "    # Declaring theta as an array of zeros\n",
    "    # numpy.zeros(n) creates a single dimensional array of n columns and 1 row\n",
    "    \n",
    "    theta = np.zeros(n_train)\n",
    "    \n",
    "    # The following for loop calculates the theta value required for prediction\n",
    "    # The transpose function is not used beacuse the theta array created above is already in its transposed form as per the theory.\n",
    "    \n",
    "    # numpy.dot does the dot product of matrices\n",
    "    # It calculates the sigmoid value from the sigmoid function and then calculates the dot product\n",
    "    \n",
    "    for i in range(num_iter):\n",
    "        h = sigmoid(X.dot(theta))\n",
    "        \n",
    "        # h is the sigmoid value calculated and y is the value taken from the signature of gradient_ascent function\n",
    "        \n",
    "        gradient = np.dot(X.T, h - y) / m_train \n",
    "        theta = theta - alpha * gradient\n",
    "    return theta\n",
    "\n",
    "# This function thus returns theta "
   ]
  },
  {
   "cell_type": "code",
   "execution_count": 85,
   "id": "a232028e",
   "metadata": {},
   "outputs": [
    {
     "data": {
      "text/plain": [
       "array([-15.73156603,   6.60957114,  -0.13703499])"
      ]
     },
     "execution_count": 85,
     "metadata": {},
     "output_type": "execute_result"
    }
   ],
   "source": [
    "# Defining the alpha and number of iterations parameters\n",
    "\n",
    "alpha = 0.01\n",
    "num_iter = 100000\n",
    "\n",
    "# Calling the gradient_ascent function and defining the updated theta \n",
    "\n",
    "updated_theta = gradient_ascent(X_train, y_train, alpha, num_iter)\n",
    "updated_theta"
   ]
  },
  {
   "cell_type": "markdown",
   "id": "7fc38413",
   "metadata": {},
   "source": [
    "After getting the theta parameters, the output can be predicted on the training and test data followed by accuracy"
   ]
  },
  {
   "cell_type": "code",
   "execution_count": 87,
   "id": "393567ee",
   "metadata": {},
   "outputs": [
    {
     "name": "stdout",
     "output_type": "stream",
     "text": [
      "Accuracy of training set:  0.8775\n",
      "Accuracy of test set:  0.9\n"
     ]
    }
   ],
   "source": [
    "# Calculating the output of prediction of training and test data\n",
    "h_train = sigmoid(X_train.dot(updated_theta))\n",
    "h_test = sigmoid(X_test.dot(updated_theta))\n",
    "\n",
    "# Calculating the output of the above function as 0 or 1\n",
    "# If the sigmoid function returns value less than 0.5 it will be treated as 0 \n",
    "# whereas if the sigmoid function returns greater than or equal to 0.5, it will return 1\n",
    "\n",
    "# Calculating the accuracy by adding all the positive results by numpy.sum method and dividing it by the total no. of test cases\n",
    "\n",
    "# Calculating the accuracy of training dataset\n",
    "h_train[h_train < 0.5] = 0\n",
    "h_train[h_train >= 0.5] = 1\n",
    "k_train = np.sum(h_train == y_train)\n",
    "print('Accuracy of training set: ', k_train / m_train )\n",
    "\n",
    "# Calculating the accuracy of test dataset\n",
    "h_test[h_test < 0.5] = 0\n",
    "h_test[h_test >= 0.5] = 1\n",
    "k_test = np.sum(h_test == y_test)\n",
    "print('Accuracy of test set: ', k_test / m_test)"
   ]
  },
  {
   "cell_type": "markdown",
   "id": "57b249e0",
   "metadata": {},
   "source": [
    "The accuracy of training dataset by the above model is 0.8775\n",
    "\n",
    "The accuracy of test dataset by the above model is 0.9"
   ]
  }
 ],
 "metadata": {
  "kernelspec": {
   "display_name": "Python 3 (ipykernel)",
   "language": "python",
   "name": "python3"
  },
  "language_info": {
   "codemirror_mode": {
    "name": "ipython",
    "version": 3
   },
   "file_extension": ".py",
   "mimetype": "text/x-python",
   "name": "python",
   "nbconvert_exporter": "python",
   "pygments_lexer": "ipython3",
   "version": "3.10.9"
  }
 },
 "nbformat": 4,
 "nbformat_minor": 5
}
